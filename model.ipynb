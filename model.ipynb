{
 "cells": [
  {
   "cell_type": "code",
   "execution_count": 6,
   "metadata": {},
   "outputs": [],
   "source": [
    "# Here we will try to predict wether a Magic the Gathering trading card will cost over or under 1$ one the\n",
    "# open market. We will use the category called \"bulk\" to signify card under 1$ (bulk == True) and card\n",
    "# below the cost of 1$ (bulk == False).\n",
    "\n",
    "\n",
    "# First some data exploration:\n",
    "# import libraries\n",
    "import pandas as pd\n",
    "import matplotlib.pyplot as plt\n",
    "import seaborn as sns\n",
    "import numpy as np"
   ]
  },
  {
   "cell_type": "code",
   "execution_count": 7,
   "metadata": {},
   "outputs": [],
   "source": [
    "# load the card data\n",
    "scryData = pd.read_csv('2020_09_25_data_processed/fin_card_data.csv')"
   ]
  },
  {
   "cell_type": "code",
   "execution_count": 8,
   "metadata": {},
   "outputs": [
    {
     "name": "stdout",
     "output_type": "stream",
     "text": [
      "Highest price:\n",
      "8066.66\n",
      "Lowest price\n",
      "0.01\n",
      "Mean price:\n",
      "4.216829122737219\n",
      "Median price:\n",
      "0.17\n",
      "Mode price:\n",
      "0    0.1\n",
      "dtype: float64\n"
     ]
    }
   ],
   "source": [
    "# some basic infos\n",
    "print('Highest price:')\n",
    "print(scryData['price'].max())\n",
    "print('Lowest price')\n",
    "print(scryData['price'].min())\n",
    "print('Mean price:')\n",
    "print(scryData['price'].mean())\n",
    "print('Median price:')\n",
    "print(scryData['price'].median())\n",
    "print('Mode price:')\n",
    "print(scryData['price'].mode())"
   ]
  },
  {
   "cell_type": "code",
   "execution_count": 9,
   "metadata": {},
   "outputs": [
    {
     "name": "stdout",
     "output_type": "stream",
     "text": [
      "Number of all cards:\n",
      "20108\n",
      "Number of all cards costing above 4$:\n",
      "1571\n",
      "Number of all cards costing above 10$:\n",
      "732\n",
      "Number of all cards costing above 20$:\n",
      "363\n",
      "Number of all cards costing above 100$:\n",
      "84\n",
      "Number of all cards costing above 1000$:\n",
      "14\n"
     ]
    }
   ],
   "source": [
    "# This tells us already much about the distrubution of prices. \n",
    "# There are a lot of cheap card which only cost about a few ¢ each. \n",
    "# But only a few extremely expensive cards exist.\n",
    "print('Number of all cards:')\n",
    "print(scryData['price'].shape[0])\n",
    "print('Number of all cards costing above 4$:')\n",
    "print(scryData[scryData['price']> 4].shape[0])\n",
    "print('Number of all cards costing above 10$:')\n",
    "print(scryData[scryData['price']> 10].shape[0])\n",
    "print('Number of all cards costing above 20$:')\n",
    "print(scryData[scryData['price']> 20].shape[0])\n",
    "print('Number of all cards costing above 100$:')\n",
    "print(scryData[scryData['price']> 100].shape[0])\n",
    "print('Number of all cards costing above 1000$:')\n",
    "print(scryData[scryData['price']> 1000].shape[0])"
   ]
  },
  {
   "cell_type": "code",
   "execution_count": 10,
   "metadata": {},
   "outputs": [
    {
     "data": {
      "image/png": "[encoded data removed]",
      "text/plain": [
       "<Figure size 432x288 with 1 Axes>"
      ]
     },
     "metadata": {
      "needs_background": "light"
     },
     "output_type": "display_data"
    }
   ],
   "source": [
    "# Lets visualize the data:\n",
    "# How many so called bulk(below 1$ or bulk == True) and non-bulk(over 1$ or bulk == False) card exist?\n",
    "sns.countplot(data=scryData, x='bulk')\n",
    "plt.show()"
   ]
  },
  {
   "cell_type": "code",
   "execution_count": 11,
   "metadata": {},
   "outputs": [
    {
     "data": {
      "image/png": "[encoded data removed]",
      "text/plain": [
       "<Figure size 432x288 with 1 Axes>"
      ]
     },
     "metadata": {
      "needs_background": "light"
     },
     "output_type": "display_data"
    }
   ],
   "source": [
    "# Magic players know that the main factor of card prize is the so called\n",
    "# rarity. There are 4 types of rarity (from rarest to most common):\n",
    "# (1) Mythic, (2) Rare, (3) Uncommon and (4) Common.\n",
    "# How many cards for each rarity exist?\n",
    "sns.countplot(data=scryData, x='rarity')\n",
    "plt.show()"
   ]
  },
  {
   "cell_type": "code",
   "execution_count": 12,
   "metadata": {},
   "outputs": [
    {
     "data": {
      "image/png": "[encoded data removed]",
      "text/plain": [
       "<Figure size 402.375x360 with 1 Axes>"
      ]
     },
     "metadata": {
      "needs_background": "light"
     },
     "output_type": "display_data"
    }
   ],
   "source": [
    "# We can see a that the rarest rarity (Mythic) is exceptionally rare.\n",
    "# How many card for each rarity are bulk or non-bulk?\n",
    "sns.catplot(data=scryData, kind='count', x='rarity', hue='bulk')\n",
    "plt.show()"
   ]
  },
  {
   "cell_type": "code",
   "execution_count": 13,
   "metadata": {
    "scrolled": false
   },
   "outputs": [
    {
     "data": {
      "text/plain": [
       "is_legendary         -0.291175\n",
       "is_creature           0.096791\n",
       "is_instant            0.068483\n",
       "is_sorcery           -0.003248\n",
       "is_land              -0.126504\n",
       "is_enchantment       -0.040416\n",
       "is_planeswalker      -0.172673\n",
       "is_artifact          -0.050650\n",
       "cmc                  -0.060595\n",
       "first_printing        0.056454\n",
       "last_printing         0.002627\n",
       "num_printings        -0.021394\n",
       "is_id_white           0.001091\n",
       "is_id_blue           -0.022747\n",
       "is_id_black          -0.020418\n",
       "is_id_red             0.032462\n",
       "is_id_green          -0.024944\n",
       "is_standard_legal     0.035056\n",
       "is_commander_legal    0.054452\n",
       "is_modern_legal       0.110820\n",
       "is_pioneer_legal      0.112779\n",
       "is_legacy_legal       0.076288\n",
       "is_pauper_legal       0.314102\n",
       "is_reserved          -0.226469\n",
       "is_reprint           -0.061390\n",
       "rarity                0.493062\n",
       "edhrec_rank           0.393925\n",
       "power                 0.070730\n",
       "toughness             0.070730\n",
       "set_enum             -0.070491\n",
       "is_masters           -0.131322\n",
       "is_booster            0.052460\n",
       "oracle_len           -0.140184\n",
       "price                -0.101295\n",
       "bulk                  1.000000\n",
       "dtype: float64"
      ]
     },
     "execution_count": 13,
     "metadata": {},
     "output_type": "execute_result"
    }
   ],
   "source": [
    "# The most non-bulk cards are in the rarities of Mythic and Rare but\n",
    "# there are also some present in the Uncommon and Common rarities.\n",
    "# So saying that every Mythic or Rare card is non-bulk is not the\n",
    "# way to go!\n",
    "# Lets look how all features correlate to bulk:\n",
    "scryData.corrwith(scryData['bulk'], axis = 0)"
   ]
  },
  {
   "cell_type": "code",
   "execution_count": 14,
   "metadata": {},
   "outputs": [],
   "source": [
    "# The category \"bulk\" shows only slight correlation with some\n",
    "# other variables. Correlation to \"price\" is obvios,\n",
    "# because the \"bulk\" variable is directly obtained from the \"price\" variable.\n",
    "# Slight correlation between \"bulk\" and other variables exist.\n",
    "# \"bulk\" shows some correlation to:\n",
    "# - \"edhrec_rank\" an online popularity ranking for a specific card on the online platform EDHrec.com\n",
    "# - \"rarity\" as expected\n",
    "# - \"is_reserved\" (So called reserved cards are prohibited from reprintinted. Only a finite amount \n",
    "#   of those cards exists. A lot of those cards are sought after by collectors and players alike.\n",
    "# - \"is_legendary\" Legendary cards are a special group of extra special cards.\n",
    "# - \"is_pauper_legal\" Pauper is a game where only cards with the rarity common can be used."
   ]
  },
  {
   "cell_type": "code",
   "execution_count": 50,
   "metadata": {},
   "outputs": [],
   "source": [
    "# Lets build a classifier.\n",
    "\n",
    "# import libraries\n",
    "from sklearn.model_selection import train_test_split\n",
    "from sklearn.ensemble import RandomForestClassifier, VotingClassifier\n",
    "from sklearn.metrics import confusion_matrix, accuracy_score, recall_score, precision_score\n",
    "from sklearn.model_selection import StratifiedKFold\n",
    "from sklearn import svm\n",
    "from xgboost import XGBClassifier\n",
    "from sklearn.ensemble import GradientBoostingClassifier"
   ]
  },
  {
   "cell_type": "code",
   "execution_count": 51,
   "metadata": {},
   "outputs": [],
   "source": [
    "# process the data\n",
    "bulkData = scryData\n",
    "y = bulkData['bulk']\n",
    "bulkData = bulkData.drop(['bulk'], axis=1)\n",
    "bulkData = bulkData.drop(['name'], axis=1)\n",
    "bulkData = bulkData.drop(['price'], axis=1)\n",
    "bulkData = bulkData.drop(['oracle_text'], axis=1)"
   ]
  },
  {
   "cell_type": "code",
   "execution_count": 55,
   "metadata": {},
   "outputs": [],
   "source": [
    "# define our classifiers\n",
    "# best hyperparameters were found seperatly by hyperparameter tuning\n",
    "\n",
    "RF = RandomForestClassifier(n_estimators=800, min_samples_split=5, min_samples_leaf=1,\n",
    "                             max_features='sqrt', max_depth=70, bootstrap=False)\n",
    "\n",
    "SVM = svm.SVC(C=10, gamma=0.0001, kernel='rbf')\n",
    "\n",
    "xgboost = XGBClassifier(colsample_bytree=0.5, eval_metric='mae', max_depth=10,\n",
    "        min_child_weight=5, subsample=1)\n",
    "\n",
    "GBC = GradientBoostingClassifier(n_estimators=400, max_features=10, max_depth=8,\n",
    "                                 learning_rate=0.5)\n",
    "\n",
    "# use a voting classifier\n",
    "vtc = VotingClassifier(estimators=[('svm', SVM), \n",
    "    ('rf', RF), ('gbc', GBC), ('xgboost', xgboost)], voting='hard')"
   ]
  },
  {
   "cell_type": "code",
   "execution_count": 56,
   "metadata": {},
   "outputs": [],
   "source": [
    "# Stratified KFold Scoring\n",
    "acc = []\n",
    "rec = []\n",
    "pre = []\n",
    "\n",
    "skf = StratifiedKFold(n_splits=10)\n",
    "skf.get_n_splits(bulkData, y)\n",
    "for train_index, test_index in skf.split(bulkData, y):\n",
    "    #print('Train:', train_index, 'Validation:', test_index)\n",
    "    X1_train, X1_test = bulkData.iloc[train_index], bulkData.iloc[test_index]\n",
    "    y1_train, y1_test = y.iloc[train_index], y.iloc[test_index]\n",
    "\n",
    "    vtc.fit(X1_train, y1_train)\n",
    "    prediction = vtc.predict(X1_test)\n",
    "    acc_score = accuracy_score(prediction, y1_test)\n",
    "    acc.append(acc_score)\n",
    "    rec_score = recall_score(prediction, y1_test)\n",
    "    rec.append(rec_score)\n",
    "    pre_score = precision_score(prediction, y1_test)\n",
    "    pre.append(pre_score)"
   ]
  },
  {
   "cell_type": "code",
   "execution_count": 57,
   "metadata": {},
   "outputs": [
    {
     "name": "stdout",
     "output_type": "stream",
     "text": [
      "Stratified_KFold mean accuracy:\n",
      "0.9299785013272773\n",
      "\n",
      "Stratified_KFold mean recall:\n",
      "0.9531988767673789\n",
      "\n",
      "Stratified_KFold mean precision:\n",
      "0.9615219923152368\n",
      "\n"
     ]
    }
   ],
   "source": [
    "# print the scoring for our model\n",
    "print('Stratified_KFold mean accuracy:')\n",
    "print(np.array(acc).mean())\n",
    "print('')\n",
    "print('Stratified_KFold mean recall:')\n",
    "print(np.array(rec).mean())\n",
    "print('')\n",
    "print('Stratified_KFold mean precision:')\n",
    "print(np.array(pre).mean())\n",
    "print('')"
   ]
  },
  {
   "cell_type": "code",
   "execution_count": 40,
   "metadata": {
    "scrolled": true
   },
   "outputs": [
    {
     "name": "stdout",
     "output_type": "stream",
     "text": [
      ">>>Naive Classificator all bulk<<<\n",
      "Accuracy:\n",
      "0.1876130198915009\n",
      "\n",
      "\n",
      ">>>Naive Classificator all non-bulk<<<\n",
      "Accuracy:\n",
      "0.8123869801084991\n",
      "\n",
      "\n",
      ">>>Naive Classificator all Mythic are non-bulk<<<\n",
      "Accuracy:\n",
      "0.8420735382760699\n",
      "\n",
      "\n",
      ">>>Naive Classificator all Mythic and Rare are non-bulk<<<\n",
      "Accuracy:\n",
      "0.7825497287522604\n"
     ]
    }
   ],
   "source": [
    "# This gives us an accuracy of about 92.87%.\n",
    "# Let's compare this to some classifiers that follow one simple rule. Similar to a buyer who wants to\n",
    "# buy some trading cards:\n",
    "\n",
    "X_train, X_test, y_train, y_test = train_test_split(bulkData, y, test_size=0.33)\n",
    "pred = np.zeros(len(X_test))\n",
    "print('>>>Naive Classificator all bulk<<<')\n",
    "print('Accuracy:')\n",
    "print(accuracy_score(pred, y_test))\n",
    "print('\\n')\n",
    "\n",
    "pred = np.ones(len(X_test))\n",
    "print('>>>Naive Classificator all non-bulk<<<')\n",
    "print('Accuracy:')\n",
    "print(accuracy_score(pred, y_test))\n",
    "print('\\n')\n",
    "\n",
    "pred = np.where(X_test['rarity'] == 1, 0, 1)\n",
    "print('>>>Naive Classificator all Mythic are non-bulk<<<')\n",
    "print('Accuracy:')\n",
    "print(accuracy_score(pred, y_test))\n",
    "print('\\n')\n",
    "\n",
    "pred = np.where(X_test['rarity'] < 3, 0, 1)\n",
    "print('>>>Naive Classificator all Mythic and Rare are non-bulk<<<')\n",
    "print('Accuracy:')\n",
    "print(accuracy_score(pred, y_test))"
   ]
  },
  {
   "cell_type": "code",
   "execution_count": 44,
   "metadata": {},
   "outputs": [],
   "source": [
    "# The best simple classifier \"All Mythics are non-bulk\" showed a result of about 84.21 accuracy.\n",
    "# Compare this to our model with 92.87% accuracy.\n",
    "# Let's look a bit into the decision process of some of our classifiers:"
   ]
  },
  {
   "cell_type": "code",
   "execution_count": 59,
   "metadata": {},
   "outputs": [
    {
     "name": "stdout",
     "output_type": "stream",
     "text": [
      "                    importance\n",
      "rarity                0.280511\n",
      "edhrec_rank           0.279709\n",
      "first_printing        0.067336\n",
      "last_printing         0.062916\n",
      "oracle_len            0.046508\n",
      "num_printings         0.033255\n",
      "set_enum              0.031631\n",
      "cmc                   0.022837\n",
      "toughness             0.020322\n",
      "is_reserved           0.019494\n",
      "is_reprint            0.017973\n",
      "power                 0.016064\n",
      "is_pioneer_legal      0.011424\n",
      "is_pauper_legal       0.010527\n",
      "is_modern_legal       0.009394\n",
      "is_legendary          0.008011\n",
      "is_booster            0.007072\n",
      "is_id_green           0.005944\n",
      "is_id_red             0.005785\n",
      "is_land               0.005666\n",
      "is_masters            0.004810\n",
      "is_id_white           0.004809\n",
      "is_artifact           0.004263\n",
      "is_id_blue            0.004252\n",
      "is_id_black           0.003433\n",
      "is_sorcery            0.003246\n",
      "is_enchantment        0.003200\n",
      "is_instant            0.002823\n",
      "is_standard_legal     0.001824\n",
      "is_creature           0.001789\n",
      "is_commander_legal    0.001467\n",
      "is_legacy_legal       0.001001\n",
      "is_planeswalker       0.000704\n"
     ]
    }
   ],
   "source": [
    "gbc.fit(X_train, y_train)\n",
    "feature_importances = pd.DataFrame(gbc.feature_importances_,\n",
    "                                   index = X_train.columns,\n",
    "                                    columns=['importance']).sort_values('importance',\n",
    "                                                                         ascending=False)\n",
    "print(feature_importances)"
   ]
  },
  {
   "cell_type": "code",
   "execution_count": 42,
   "metadata": {},
   "outputs": [
    {
     "name": "stdout",
     "output_type": "stream",
     "text": [
      "                    importance\n",
      "edhrec_rank           0.271882\n",
      "rarity                0.173836\n",
      "last_printing         0.073435\n",
      "first_printing        0.057589\n",
      "oracle_len            0.055015\n",
      "is_pauper_legal       0.039774\n",
      "cmc                   0.032754\n",
      "is_legendary          0.032335\n",
      "num_printings         0.030137\n",
      "set_enum              0.029787\n",
      "is_reserved           0.028756\n",
      "is_pioneer_legal      0.017594\n",
      "power                 0.016944\n",
      "toughness             0.016932\n",
      "is_modern_legal       0.011527\n",
      "is_reprint            0.010547\n",
      "is_booster            0.010396\n",
      "is_planeswalker       0.009752\n",
      "is_masters            0.008209\n",
      "is_id_red             0.008066\n",
      "is_id_green           0.007536\n",
      "is_id_white           0.007361\n",
      "is_id_black           0.007281\n",
      "is_id_blue            0.006985\n",
      "is_artifact           0.005808\n",
      "is_land               0.005681\n",
      "is_creature           0.005086\n",
      "is_enchantment        0.005065\n",
      "is_sorcery            0.004444\n",
      "is_instant            0.004054\n",
      "is_standard_legal     0.002068\n",
      "is_legacy_legal       0.001843\n",
      "is_commander_legal    0.001520\n"
     ]
    }
   ],
   "source": [
    "RF.fit(X_train, y_train)\n",
    "feature_importances = pd.DataFrame(RF.feature_importances_,\n",
    "                                   index = X_train.columns,\n",
    "                                    columns=['importance']).sort_values('importance',\n",
    "                                                                         ascending=False)\n",
    "print(feature_importances)"
   ]
  },
  {
   "cell_type": "code",
   "execution_count": 60,
   "metadata": {},
   "outputs": [
    {
     "name": "stdout",
     "output_type": "stream",
     "text": [
      "                    importance\n",
      "rarity                0.248434\n",
      "is_reserved           0.113320\n",
      "is_pauper_legal       0.087019\n",
      "is_land               0.045779\n",
      "is_pioneer_legal      0.040277\n",
      "edhrec_rank           0.037778\n",
      "last_printing         0.034097\n",
      "is_reprint            0.029919\n",
      "is_planeswalker       0.029707\n",
      "is_legendary          0.028271\n",
      "is_modern_legal       0.025163\n",
      "set_enum              0.025072\n",
      "is_standard_legal     0.021587\n",
      "is_legacy_legal       0.018155\n",
      "first_printing        0.016710\n",
      "is_booster            0.016301\n",
      "is_masters            0.016284\n",
      "num_printings         0.014515\n",
      "is_commander_legal    0.014483\n",
      "cmc                   0.013167\n",
      "is_id_red             0.011610\n",
      "toughness             0.011592\n",
      "is_creature           0.011096\n",
      "oracle_len            0.010211\n",
      "is_id_green           0.009726\n",
      "is_enchantment        0.009471\n",
      "is_id_blue            0.009023\n",
      "power                 0.008959\n",
      "is_id_white           0.008896\n",
      "is_artifact           0.008896\n",
      "is_id_black           0.008653\n",
      "is_sorcery            0.008383\n",
      "is_instant            0.007446\n"
     ]
    }
   ],
   "source": [
    "xgboost.fit(X_train, y_train)\n",
    "feature_importances = pd.DataFrame(xgboost.feature_importances_,\n",
    "                                   index = X_train.columns,\n",
    "                                    columns=['importance']).sort_values('importance',\n",
    "                                                                         ascending=False)\n",
    "print(feature_importances)"
   ]
  },
  {
   "cell_type": "code",
   "execution_count": null,
   "metadata": {},
   "outputs": [],
   "source": [
    "# As expected \"rarity\" was a very important feature to predict the bulk status of a card.\n",
    "# The XGBClassifier looked more on the legality and reserved status of a card to decide how potentially\n",
    "# expensive the card is. Where the RandomForestClassifier and the GradientBoostingClassifier\n",
    "# looked especially on the \"edhrec_rank\" and when the card was printed."
   ]
  }
 ],
 "metadata": {
  "kernelspec": {
   "display_name": "Python 3",
   "language": "python",
   "name": "python3"
  },
  "language_info": {
   "codemirror_mode": {
    "name": "ipython",
    "version": 3
   },
   "file_extension": ".py",
   "mimetype": "text/x-python",
   "name": "python",
   "nbconvert_exporter": "python",
   "pygments_lexer": "ipython3",
   "version": "3.8.5"
  }
 },
 "nbformat": 4,
 "nbformat_minor": 4
}
